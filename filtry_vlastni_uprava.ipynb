{
  "nbformat": 4,
  "nbformat_minor": 0,
  "metadata": {
    "colab": {
      "provenance": [],
      "authorship_tag": "ABX9TyPowghH95AHqcwbu//FIIsP",
      "include_colab_link": true
    },
    "kernelspec": {
      "name": "python3",
      "display_name": "Python 3"
    },
    "language_info": {
      "name": "python"
    }
  },
  "cells": [
    {
      "cell_type": "markdown",
      "metadata": {
        "id": "view-in-github",
        "colab_type": "text"
      },
      "source": [
        "<a href=\"https://colab.research.google.com/github/fia42192/filtry_moje_uprava/blob/master/filtry_vlastni_uprava.ipynb\" target=\"_parent\"><img src=\"https://colab.research.google.com/assets/colab-badge.svg\" alt=\"Open In Colab\"/></a>"
      ]
    },
    {
      "cell_type": "code",
      "execution_count": null,
      "metadata": {
        "id": "Xq2hHdoOQO6s"
      },
      "outputs": [],
      "source": [
        "from re import S\n",
        "from PIL import Image\n",
        "import sys\n",
        "import time\n",
        "\n",
        "start_time = time.time()\n",
        "print(\"Vítej v mém programu, tento program ti umožní kombinovat RGB barvy tak, aby se následující fotka upravila přesně toho, jak si přeješ.\")\n",
        "print(\"Zvol jedno z následujících písmen, D nebo V\")\n",
        "print(\"D je pralesnička batiková, V je vosa.\")\n",
        "D = \"dendrobates_auratus.jpg\"\n",
        "V = \"vosa.jpg\"\n",
        "volba = input(\"Které volíš? \")\n",
        "if volba == \"D\":\n",
        "  obrazek = Image.open(D)\n",
        "elif volba == \"V\":\n",
        "  obrazek = Image.open(V)\n",
        "\n",
        "print(\"Nyní si pojď sám upravit barvy!\")\n",
        "volba_barev = int(input(\"Kterou barvu by sis rád upravil? Napiš číslo - 1.R, 2.G, 3.B, 4.Pro kompletní úpravu všech barev. \"))\n",
        "if volba_barev == 1:\n",
        "  A = int(input(\"Zvol číslo ideálně v rozmezí 100-255 pro množství červené: \"))\n",
        "  B = 1\n",
        "  C = 1\n",
        "\n",
        "elif volba_barev == 2:\n",
        "  A = 1\n",
        "  B = int(input(\"Zvol číslo ideálně v rozmezí 50-255 pro množství zelené: \"))\n",
        "  C = 1\n",
        "\n",
        "elif volba_barev == 3:\n",
        "  A = 1\n",
        "  B = 1\n",
        "  C = int(input(\"Zvol číslo ideálně v rozmezí 50-255 pro množství modré: \"))\n",
        "\n",
        "elif volba_barev == 4:\n",
        "  A = int(input(\"Zvol číslo 1-255 pro množství červené: \"))\n",
        "  B = int(input(\"Zvol číslo 1-255 pro množství zelené: \"))\n",
        "  C = int(input(\"Zvol číslo 1-255 pro množství modré: \"))\n",
        "else:\n",
        "  print(\"Nauč se psát.\")\n",
        "  sys.exit()\n",
        "\n",
        "start_time_2 = time.time()\n",
        "\n",
        "sirka, vyska = obrazek.size\n",
        "x = 0\n",
        "while x < sirka:\n",
        "    y = 0\n",
        "    while y < vyska:\n",
        "        r, g, b = obrazek.getpixel((x,y))\n",
        "        prumer = int((r+g+b)/2.7)\n",
        "        obrazek.putpixel((x,y), (r , b, r))\n",
        "        if prumer > 150:\n",
        "            obrazek.putpixel((x,y), (255, 255, 255))\n",
        "        else:\n",
        "            obrazek.putpixel((x,y), (A, B, C))\n",
        "        y += 1\n",
        "    x += 1\n",
        "display(obrazek)\n",
        "obrazek.save(\"upraveny_obrazek.jpg\")\n",
        "\n",
        "end_time_2 = time.time()\n",
        "duration_2 = end_time_2 - start_time_2\n",
        "print(\"\\nObrázek se generoval {:.2f} sekund.\".format(duration_2))\n",
        "\n",
        "end_time = time.time()\n",
        "duration = end_time - start_time\n",
        "print(\"Celý program běžel {:.2f} sekund.\".format(duration))"
      ]
    }
  ]
}